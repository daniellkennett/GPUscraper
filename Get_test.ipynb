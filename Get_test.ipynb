{
 "cells": [
  {
   "cell_type": "code",
   "execution_count": 150,
   "id": "782a4045",
   "metadata": {},
   "outputs": [],
   "source": [
    "import requests\n",
    "import scrapy\n",
    "from bs4 import BeautifulSoup\n",
    "import pandas as pd\n",
    "\n",
    "\n",
    "\n",
    "d = {'name': [],\n",
    "     'price' : [],\n",
    "     'button' : []}"
   ]
  },
  {
   "cell_type": "code",
   "execution_count": 151,
   "id": "db9e35a8",
   "metadata": {},
   "outputs": [],
   "source": [
    "info_class = 'sku-header'\n",
    "price_class = 'priceView-hero-price priceView-customer-price'\n",
    "button_class = 'btn btn-disabled btn-sm btn-block add-to-cart-button'\n",
    "\n"
   ]
  },
  {
   "cell_type": "code",
   "execution_count": 152,
   "id": "748b42ad",
   "metadata": {},
   "outputs": [],
   "source": [
    "url = 'https://www.bestbuy.com/site/searchpage.jsp?_dyncharset=UTF-8&browsedCategory=abcat0507002&id=pcat17071&iht=n&ks=960&list=y&qp=chipsetmanufacture_facet%3DChipset%20Manufacturer~NVIDIA%5Evideomemorycapacitysv_facet%3DVideo%20Memory%20Capacity~10%20gigabytes%5Evideomemorycapacitysv_facet%3DVideo%20Memory%20Capacity~12%20gigabytes%5Evideomemorycapacitysv_facet%3DVideo%20Memory%20Capacity~24%20gigabytes%5Evideomemorycapacitysv_facet%3DVideo%20Memory%20Capacity~8%20gigabytes&sc=Global&st=categoryid%24abcat0507002&type=page&usc=All%20Categories'\n",
    "headers = {'User-Agent' : 'Mozilla/5.0 (X11; Linux x86_64) AppleWebKit/537.36 (KHTML, like Gecko) Chrome/91.0.4472.114 Safari/537.36'}\n",
    "bb = requests.get(url, headers=headers)\n",
    "soup = BeautifulSoup(bb.content.decode(), 'html.parser')"
   ]
  },
  {
   "cell_type": "code",
   "execution_count": 153,
   "id": "5f7f9fe4",
   "metadata": {},
   "outputs": [],
   "source": [
    "mydivs_name = soup.find_all(\"h4\", {\"class\": info_class})\n",
    "mydivs_price = soup.find_all('div', {'class': price_class})\n",
    "mydivs_button = soup.find_all('button', {'class' : button_class})"
   ]
  },
  {
   "cell_type": "code",
   "execution_count": 154,
   "id": "f34bbfd9",
   "metadata": {},
   "outputs": [],
   "source": [
    "for i in range(len(mydivs_name)):\n",
    "    name = mydivs_name[i].find('a').text\n",
    "    price = mydivs_price[i].find('span').text\n",
    "    button = mydivs_button[i].text\n",
    "    d['name'].append(name)\n",
    "    d['price'].append(price)\n",
    "    d['button'].append(button)\n"
   ]
  },
  {
   "cell_type": "code",
   "execution_count": 155,
   "id": "eca772ae",
   "metadata": {
    "scrolled": true
   },
   "outputs": [
    {
     "data": {
      "text/plain": [
       "{'name': ['MSI - NVIDIA GeForce RTX 3070 Ti GAMING X TRIO 8G GDDR6 PCI Express 4.0 Graphics Card',\n",
       "  'MSI - NVIDIA Geforce RTX 3080 Ti Gaming X Trio 12GB - GDDR6X - PCI Express 4.0 - Graphic Card',\n",
       "  'MSI - NVIDIA GeForce RTX 3070 Ti VENTUS 3X OC 8GB GDDR6 PCI Express 4.0 Graphics Card',\n",
       "  'ASUS - GeForce RTX 3090 24GB GDDR6X PCI Express 4.0 Strix Graphics Card - Black',\n",
       "  'EVGA - GeForce RTX 3070 XC3 ULTRA GAMING 8GB GDDR6 PCI Express 4.0 Graphics Card',\n",
       "  'MSI - NVIDIA Geforce RTX 3060 Ventus 2X 12G OC - 12GB GDDR6 - PCI Express 4.0 - Graphics Card - Black',\n",
       "  'ASUS - TUF Gaming NVIDIA® GeForce RTX™ 3060 12GB GDDR6 PCI Express 4.0 Graphics Card - Black',\n",
       "  'GIGABYTE - NVIDIA GeForce RTX 3070TI GAMING OC 8GB GDDR6X PCI Express 4.0 Graphics Card - Black',\n",
       "  'GIGABYTE - NVIDIA GeForce RTX 3080 Ti GAMING OC 12GB GDDR6X PCI Express 4.0 Graphics Card',\n",
       "  'GIGABYTE - NVIDIA GeForce RTX 3060 12GB GDDR6 PCI Express 4.0 Graphics Card',\n",
       "  'GIGABYTE - NVIDIA GeForce RTX 3060 12GB GDDR6 PCI Express 4.0 Graphics Card',\n",
       "  'NVIDIA GeForce RTX 3080 10GB GDDR6X PCI Express 4.0  Graphics Card - Titanium and Black',\n",
       "  'NVIDIA GeForce RTX 3060 Ti 8GB GDDR6 PCI Express 4.0 Graphics Card - Steel and Black',\n",
       "  'NVIDIA GeForce RTX 3070 8GB GDDR6  PCI Express 4.0  Graphics Card - Dark Platinum and Black',\n",
       "  'NVIDIA GeForce RTX 3090 24GB GDDR6X  PCI Express 4.0 Graphics Card - Titanium and Black',\n",
       "  'NVIDIA - GeForce RTX 3070 Ti 8GB GDDR6X PCI Express 4.0 Graphics Card - Dark Platinum and Black',\n",
       "  'EVGA - GeForce RTX 3080 XC3 ULTRA GAMING 10GB GDDR6 PCI Express 4.0 Graphics Card',\n",
       "  'NVIDIA - GeForce RTX 3080 Ti 12GB GDDR6X PCI Express 4.0 Graphics Card - Titanium and Black',\n",
       "  'GIGABYTE - NVIDIA GeForce RTX 3060 12GB GDDR6 PCI Express 4.0 Graphics Card',\n",
       "  'GIGABYTE - NVIDIA GeForce RTX 3070TI EAGLE 8GB GDDR6X PCI Express 4.0 Graphics Card - Black',\n",
       "  'EVGA - NVIDIA GeForce RTX 3060 XC GAMING 12GB GDDR6 PCI Express 4.0 Graphics Card',\n",
       "  'ASUS - GeForce RTX 3080 10GB GDDR6X PCI Express 4.0 Strix Graphics Card - Black',\n",
       "  'ASUS - TUF-RTX3060TI 8GB GDDR6 PCI Express 4.0 Graphics Card',\n",
       "  'MSI - NVIDIA Geforce RTX 3090 GAMING X TRIO 24G - 24GB GDDR6X - PCI Express 4.0 - Graphics Card'],\n",
       " 'price': ['$999.99',\n",
       "  '$1,799.99',\n",
       "  '$949.99',\n",
       "  '$2,229.99',\n",
       "  '$639.99',\n",
       "  '$489.99',\n",
       "  '$509.99',\n",
       "  '$849.99',\n",
       "  '$1,479.99',\n",
       "  '$459.99',\n",
       "  '$499.99',\n",
       "  '$699.99',\n",
       "  '$399.99',\n",
       "  '$499.99',\n",
       "  '$1,499.99',\n",
       "  '$599.99',\n",
       "  '$849.99',\n",
       "  '$1,199.99',\n",
       "  '$439.99',\n",
       "  '$599.99',\n",
       "  '$399.99',\n",
       "  '$1,099.99',\n",
       "  '$459.99',\n",
       "  '$2,399.00'],\n",
       " 'button': ['Sold Out',\n",
       "  'Sold Out',\n",
       "  'Sold Out',\n",
       "  'Sold Out',\n",
       "  'Sold Out',\n",
       "  'Sold Out',\n",
       "  'Sold Out',\n",
       "  'Sold Out',\n",
       "  'Sold Out',\n",
       "  'Sold Out',\n",
       "  'Sold Out',\n",
       "  'Sold Out',\n",
       "  'Sold Out',\n",
       "  'Sold Out',\n",
       "  'Sold Out',\n",
       "  'Sold Out',\n",
       "  'Sold Out',\n",
       "  'Sold Out',\n",
       "  'Sold Out',\n",
       "  'Sold Out',\n",
       "  'Sold Out',\n",
       "  'Sold Out',\n",
       "  'Sold Out',\n",
       "  'Sold Out']}"
      ]
     },
     "execution_count": 155,
     "metadata": {},
     "output_type": "execute_result"
    }
   ],
   "source": [
    "d"
   ]
  },
  {
   "cell_type": "code",
   "execution_count": 169,
   "id": "31382b45",
   "metadata": {
    "scrolled": true
   },
   "outputs": [
    {
     "data": {
      "text/plain": [
       "True"
      ]
     },
     "execution_count": 169,
     "metadata": {},
     "output_type": "execute_result"
    }
   ],
   "source": [
    "df = pd.DataFrame(d)\n",
    "# button = df.button\n",
    "# button[3] = 'Sold In'\n",
    "trigger = df.button.str.contains('Sold Out').all()"
   ]
  },
  {
   "cell_type": "code",
   "execution_count": 4,
   "id": "3897a393",
   "metadata": {},
   "outputs": [
    {
     "data": {
      "text/plain": [
       "12"
      ]
     },
     "execution_count": 4,
     "metadata": {},
     "output_type": "execute_result"
    }
   ],
   "source": [
    "import numpy as np\n",
    "np.random.randint(15)"
   ]
  },
  {
   "cell_type": "code",
   "execution_count": null,
   "id": "d00989f9",
   "metadata": {},
   "outputs": [],
   "source": []
  }
 ],
 "metadata": {
  "kernelspec": {
   "display_name": "Python 3",
   "language": "python",
   "name": "python3"
  },
  "language_info": {
   "codemirror_mode": {
    "name": "ipython",
    "version": 3
   },
   "file_extension": ".py",
   "mimetype": "text/x-python",
   "name": "python",
   "nbconvert_exporter": "python",
   "pygments_lexer": "ipython3",
   "version": "3.7.7"
  }
 },
 "nbformat": 4,
 "nbformat_minor": 5
}
